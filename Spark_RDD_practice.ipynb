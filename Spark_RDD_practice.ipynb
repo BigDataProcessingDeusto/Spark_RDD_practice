{
 "cells": [
  {
   "cell_type": "markdown",
   "metadata": {
    "id": "w1YhJxsAgoAX"
   },
   "source": [
    "# SPARK RDD tutorial\n",
    "\n",
    "In this colab, we will train the concepts learned about RDDs.\n",
    "Check the materials at ALUD and the Spark RDD documentation (https://spark.apache.org/docs/latest/rdd-programming-guide.html)\n"
   ]
  },
  {
   "cell_type": "markdown",
   "metadata": {
    "id": "v0AqXhYdgzuG"
   },
   "source": [
    "## Setup"
   ]
  },
  {
   "cell_type": "markdown",
   "metadata": {
    "id": "FbvT2z_Zg3a2"
   },
   "source": [
    "Let's set up Spark on your Colab environment.  Run the cell below!"
   ]
  },
  {
   "cell_type": "code",
   "execution_count": 1,
   "metadata": {
    "id": "ADL8ONkqhFXu"
   },
   "outputs": [],
   "source": [
    "# Let's import the libraries we will need\n",
    "import pyspark\n",
    "from pyspark import SparkContext, SparkConf"
   ]
  },
  {
   "cell_type": "markdown",
   "metadata": {
    "id": "nkt3EohxhLk-"
   },
   "source": [
    "Let's initialize the Spark context.\n"
   ]
  },
  {
   "cell_type": "code",
   "execution_count": 2,
   "metadata": {
    "id": "uSVqX5R1hPY3"
   },
   "outputs": [
    {
     "name": "stderr",
     "output_type": "stream",
     "text": [
      "23/10/19 15:31:14 WARN Utils: Your hostname, osboxes resolves to a loopback address: 127.0.1.1; using 10.0.2.15 instead (on interface enp0s3)\n",
      "23/10/19 15:31:14 WARN Utils: Set SPARK_LOCAL_IP if you need to bind to another address\n",
      "Setting default log level to \"WARN\".\n",
      "To adjust logging level use sc.setLogLevel(newLevel). For SparkR, use setLogLevel(newLevel).\n",
      "23/10/19 15:31:14 WARN NativeCodeLoader: Unable to load native-hadoop library for your platform... using builtin-java classes where applicable\n",
      "23/10/19 15:31:15 WARN Utils: Service 'SparkUI' could not bind on port 4040. Attempting port 4041.\n"
     ]
    }
   ],
   "source": [
    "sc = pyspark.SparkContext()"
   ]
  },
  {
   "cell_type": "markdown",
   "metadata": {
    "id": "dU1OW096hagt"
   },
   "source": [
    "You can easily check the current version and get the link of the web interface. In the Spark UI, you can monitor the progress of your job and debug the performance bottlenecks (if your Colab is running with a **local runtime**)."
   ]
  },
  {
   "cell_type": "code",
   "execution_count": 3,
   "metadata": {
    "id": "enfDbe_phgf-"
   },
   "outputs": [
    {
     "data": {
      "text/html": [
       "\n",
       "        <div>\n",
       "            <p><b>SparkContext</b></p>\n",
       "\n",
       "            <p><a href=\"http://10.0.2.15:4041\">Spark UI</a></p>\n",
       "\n",
       "            <dl>\n",
       "              <dt>Version</dt>\n",
       "                <dd><code>v3.5.0</code></dd>\n",
       "              <dt>Master</dt>\n",
       "                <dd><code>local[*]</code></dd>\n",
       "              <dt>AppName</dt>\n",
       "                <dd><code>pyspark-shell</code></dd>\n",
       "            </dl>\n",
       "        </div>\n",
       "        "
      ],
      "text/plain": [
       "<SparkContext master=local[*] appName=pyspark-shell>"
      ]
     },
     "execution_count": 3,
     "metadata": {},
     "output_type": "execute_result"
    }
   ],
   "source": [
    "sc"
   ]
  },
  {
   "cell_type": "markdown",
   "metadata": {
    "id": "Q_CtdtMBnBnM"
   },
   "source": [
    "# Exercises"
   ]
  },
  {
   "cell_type": "code",
   "execution_count": 4,
   "metadata": {
    "id": "LaPKzVrojFnx"
   },
   "outputs": [],
   "source": [
    "# The input data will be a list with integers\n",
    "import json\n",
    "\n",
    "with open('integer_file.txt', 'r') as f:\n",
    "  input = json.loads(f.read())"
   ]
  },
  {
   "cell_type": "markdown",
   "metadata": {
    "id": "Uq_DFNQ0i6TB"
   },
   "source": [
    "## Exercise 1: LargestInteger\n",
    "\n",
    "From a list of integers, we must select the largest (highest, biggest) integer  from the list."
   ]
  },
  {
   "cell_type": "code",
   "execution_count": null,
   "metadata": {
    "id": "Jk34X2j_jzXz"
   },
   "outputs": [],
   "source": [
    "# Here you must insert your code. You must put your result in a variable named 'result'\n",
    "# Remember that you must first create the RDD using parallelize function\n",
    "\n"
   ]
  },
  {
   "cell_type": "code",
   "execution_count": null,
   "metadata": {
    "id": "0UzxRGFxl45D"
   },
   "outputs": [],
   "source": [
    "# Here is where the result will be checked Don't modify this!\n",
    "print('Success!') if result == 99 else print('Fail!')"
   ]
  },
  {
   "cell_type": "markdown",
   "metadata": {
    "id": "bx1K2m7XoFJR"
   },
   "source": [
    "## Exercise 2: DistinctInteger\n",
    "\n",
    "From a list of integers, get only the distinct integers, i.e., remove duplicates."
   ]
  },
  {
   "cell_type": "code",
   "execution_count": null,
   "metadata": {
    "id": "OaDzXQP1oIMT"
   },
   "outputs": [],
   "source": [
    "# Here you must insert your code. You must put your result in a variable named 'result'\n",
    "\n"
   ]
  },
  {
   "cell_type": "code",
   "execution_count": 5,
   "metadata": {
    "id": "1tPlC98uoV04"
   },
   "outputs": [
    {
     "ename": "NameError",
     "evalue": "name 'result' is not defined",
     "output_type": "error",
     "traceback": [
      "\u001b[0;31m---------------------------------------------------------------------------\u001b[0m",
      "\u001b[0;31mNameError\u001b[0m                                 Traceback (most recent call last)",
      "Cell \u001b[0;32mIn[5], line 4\u001b[0m\n\u001b[1;32m      2\u001b[0m unique \u001b[38;5;241m=\u001b[39m []\n\u001b[1;32m      3\u001b[0m fail \u001b[38;5;241m=\u001b[39m \u001b[38;5;28;01mFalse\u001b[39;00m\n\u001b[0;32m----> 4\u001b[0m \u001b[38;5;28;01mfor\u001b[39;00m item \u001b[38;5;129;01min\u001b[39;00m \u001b[43mresult\u001b[49m:\n\u001b[1;32m      5\u001b[0m   \u001b[38;5;28;01mif\u001b[39;00m item \u001b[38;5;129;01mnot\u001b[39;00m \u001b[38;5;129;01min\u001b[39;00m unique:\n\u001b[1;32m      6\u001b[0m     unique\u001b[38;5;241m.\u001b[39mappend(item)\n",
      "\u001b[0;31mNameError\u001b[0m: name 'result' is not defined"
     ]
    }
   ],
   "source": [
    "# Here is where the result will be checked Don't modify this!\n",
    "unique = []\n",
    "fail = False\n",
    "for item in result:\n",
    "  if item not in unique:\n",
    "    unique.append(item)\n",
    "  else:\n",
    "      fail = True\n",
    "      break\n",
    "print('Success!') if not fail else print('Fail!')"
   ]
  },
  {
   "cell_type": "markdown",
   "metadata": {
    "id": "QD6qY-rWpqwK"
   },
   "source": [
    "## Exercise 3: DistinctIntegerCount\n",
    "\n",
    "From a list of integers, count the occurrences of each number."
   ]
  },
  {
   "cell_type": "code",
   "execution_count": null,
   "metadata": {
    "id": "D9x0v1GgqV9W"
   },
   "outputs": [],
   "source": [
    "# Here you must insert your code. You must put your result in a variable named 'result'.\n",
    "\n"
   ]
  },
  {
   "cell_type": "code",
   "execution_count": null,
   "metadata": {
    "id": "Dv4neoXTHPci"
   },
   "outputs": [],
   "source": [
    "# Here is where the result will be checked Don't modify this!\n",
    "expected = {69: 135, 20: 129, 37: 123, 65: 123, 88: 121, 94: 120, 23: 118, 36: 117, 35: 117, 92: 116, 82: 114, 90: 114, 62: 113, 33: 112, 96: 110, 38: 110, 25: 110, 85: 110, 11: 110, 55: 110, 22: 107, 75: 107, 17: 106, 93: 106, 4: 105, 30: 105, 42: 105, 2: 105, 68: 105, 64: 105, 51: 105, 59: 105, 15: 105, 16: 104, 18: 104, 13: 104, 61: 104, 43: 103, 48: 102, 77: 102, 12: 101, 0: 101, 80: 101, 54: 101, 78: 101, 6: 101, 45: 101, 34: 100, 1: 100, 81: 100, 66: 99, 67: 99, 31: 99, 28: 98, 95: 98, 47: 98, 19: 97, 97: 97, 49: 97, 99: 97, 3: 97, 21: 97, 7: 96, 63: 96, 41: 96, 5: 96, 27: 96, 39: 96, 53: 96, 91: 95, 72: 94, 60: 94, 8: 94, 89: 94, 56: 93, 87: 92, 73: 92, 50: 91, 32: 91, 24: 91, 83: 91, 74: 90, 79: 90, 71: 90, 10: 89, 14: 88, 98: 88, 57: 87, 29: 87, 86: 86, 26: 85, 76: 85, 44: 85, 58: 84, 84: 83, 40: 83, 70: 79, 46: 78, 9: 77, 52: 76}\n",
    "\n",
    "fail = False if len(expected.keys()) == len(result) else True\n",
    "if not fail:\n",
    "  fail = [expected[item[0]] != item[1] for item in result]\n",
    "  print(\"Fail!\") if True in fail else print(\"Success!\")\n",
    "else:\n",
    "  print(\"Fail!\")\n"
   ]
  },
  {
   "cell_type": "markdown",
   "metadata": {
    "id": "GJdK_BrJKFDY"
   },
   "source": [
    "## Exercise 4: Selection\n",
    "\n",
    "From a set of tuples, return only those who match with the specified criteria. Specifically, from the given input relation, you must select those tuples in which the position is equals to\n",
    "'Analyst'."
   ]
  },
  {
   "cell_type": "code",
   "execution_count": null,
   "metadata": {
    "id": "xmOh7GCUKdA9"
   },
   "outputs": [],
   "source": [
    "# The input data will be a list of tuples\n",
    "tuples = []\n",
    "with open('tuples.txt', 'r') as f:\n",
    "  lines = f.readlines()\n",
    "  for line in lines:\n",
    "    item = line.strip().split(',')\n",
    "    tuples.append((item[0], item[1], item[2], item[3]))"
   ]
  },
  {
   "cell_type": "code",
   "execution_count": null,
   "metadata": {
    "id": "v1MvA5IVMO6G"
   },
   "outputs": [],
   "source": [
    "# Here you must insert your code. You must put your result in a variable named 'result'.\n",
    "\n"
   ]
  },
  {
   "cell_type": "code",
   "execution_count": null,
   "metadata": {
    "id": "y3iiCMVONI4q"
   },
   "outputs": [],
   "source": [
    "# Here is where the result will be checked Don't modify this!\n",
    "expected = [('7', 'Matthew', 'Hawkins', 'Analyst'), ('10', 'Jeanette', 'King', 'Analyst'), ('11', 'Sang', 'Papitto', 'Analyst'), ('15', 'Amy', 'Hackathorn', 'Analyst'), ('16', 'Rene', 'Faulk', 'Analyst'), ('17', 'Karl', 'Warren', 'Analyst'), ('25', 'Greg', 'Sanchez', 'Analyst'), ('28', 'Amy', 'Gaston', 'Analyst'), ('31', 'Robin', 'Pollmann', 'Analyst'), ('33', 'Curtis', 'Franco', 'Analyst'), ('37', 'Nellie', 'Beasley', 'Analyst'), ('38', 'Lola', 'Lusk', 'Analyst'), ('42', 'John', 'Campbell', 'Analyst'), ('44', 'Dian', 'Finkenbinder', 'Analyst'), ('47', 'Courtney', 'Morales', 'Analyst'), ('48', 'Elaine', 'Street', 'Analyst'), ('55', 'Edward', 'Stefani', 'Analyst'), ('56', 'Dennis', 'Chang', 'Analyst'), ('57', 'Christine', 'Scott', 'Analyst'), ('59', 'Veronica', 'Freeman', 'Analyst'), ('60', 'James', 'Buel', 'Analyst'), ('64', 'Joseph', 'Flanders', 'Analyst'), ('65', 'Donna', 'Hernandez', 'Analyst'), ('70', 'Reynaldo', 'Cammarata', 'Analyst'), ('77', 'Morris', 'Stringfellow', 'Analyst'), ('78', 'Shirley', 'Smith', 'Analyst'), ('80', 'Evan', 'White', 'Analyst'), ('81', 'Christopher', 'Kass', 'Analyst'), ('85', 'Theresa', 'Bennett', 'Analyst'), ('92', 'Carl', 'Lehmberg', 'Analyst'), ('93', 'Matthew', 'Holgerson', 'Analyst'), ('95', 'Gary', 'Chan', 'Analyst')]\n",
    "\n",
    "fail = False if len(expected) == len(result) else True\n",
    "if not fail:\n",
    "  fail = [item not in expected for item in result]\n",
    "  print(\"Fail!\") if True in fail else print(\"Success!\")\n",
    "else:\n",
    "  print(\"Fail!\")"
   ]
  },
  {
   "cell_type": "markdown",
   "metadata": {
    "id": "Av8ZhTI8Nqrw"
   },
   "source": [
    "## Exercise 5: Projection\n",
    "\n",
    "From the previous set of tuples, return only the specified attributes. Specifically, from the given input relation, you must select the surname and the position from the given tuples."
   ]
  },
  {
   "cell_type": "code",
   "execution_count": null,
   "metadata": {
    "id": "maKrn_AfN5_r"
   },
   "outputs": [],
   "source": [
    "# Here you must insert your code. You must put your result in a variable named 'result'.\n",
    "\n"
   ]
  },
  {
   "cell_type": "code",
   "execution_count": null,
   "metadata": {
    "id": "mg6cgx7_gJwD"
   },
   "outputs": [],
   "source": [
    "# Here is where the result will be checked Don't modify this!\n",
    "\n",
    "expected = [('Chun', 'Team Leader'), ('Petersen', 'Team Leader'), ('Hayes', 'Programmer'), ('Dodson', 'Programmer'), ('Baer', 'Team Leader'), ('Serrato', 'Team Leader'), ('Perkins', 'Programmer'), ('Hawkins', 'Analyst'), ('Voorhees', 'Team Leader'), ('Carter', 'Team Leader'), ('King', 'Analyst'), ('Papitto', 'Analyst'), ('Doan', 'Programmer'), ('Patel', 'Team Leader'), ('Phelps', 'Team Leader'), ('Hackathorn', 'Analyst'), ('Faulk', 'Analyst'), ('Warren', 'Analyst'), ('Jamerson', 'Programmer'), ('Dierks', 'Programmer'), ('Reyes', 'Programmer'), ('Sandoval', 'Team Leader'), ('Cole', 'Team Leader'), ('Heath', 'Programmer'), ('Mcshea', 'Team Leader'), ('Sanchez', 'Analyst'), ('Hendrick', 'Programmer'), ('Connell', 'Team Leader'), ('Gaston', 'Analyst'), ('Mcmurray', 'Programmer'), ('Hammon', 'Programmer'), ('Pollmann', 'Analyst'), ('Knowlton', 'Programmer'), ('Franco', 'Analyst'), ('Slater', 'Team Leader'), ('Finch', 'Programmer'), ('Moneyhun', 'Programmer'), ('Beasley', 'Analyst'), ('Lusk', 'Analyst'), ('Reed', 'Team Leader'), ('Born', 'Team Leader'), ('Perez', 'Team Leader'), ('Campbell', 'Analyst'), ('Otero', 'Team Leader'), ('Finkenbinder', 'Analyst'), ('Hall', 'Programmer'), ('Boudreau', 'Team Leader'), ('Morales', 'Analyst'), ('Street', 'Analyst'), ('Barrington', 'Team Leader'), ('Easton', 'Team Leader'), ('Sager', 'Team Leader'), ('Harvey', 'Programmer'), ('Small', 'Programmer'), ('Woodbury', 'Programmer'), ('Stefani', 'Analyst'), ('Chang', 'Analyst'), ('Scott', 'Analyst'), ('Ayer', 'Team Leader'), ('Freeman', 'Analyst'), ('Buel', 'Analyst'), ('Broten', 'Team Leader'), ('Sandhu', 'Team Leader'), ('Pickett', 'Programmer'), ('Flanders', 'Analyst'), ('Hernandez', 'Analyst'), ('Morgan', 'Programmer'), ('Slane', 'Team Leader'), ('Lynum', 'Programmer'), ('Close', 'Team Leader'), ('Cammarata', 'Analyst'), ('Tunis', 'Programmer'), ('Stansberry', 'Programmer'), ('Kwok', 'Programmer'), ('Wells', 'Team Leader'), ('Ziola', 'Team Leader'), ('Mctiernan', 'Programmer'), ('Stringfellow', 'Analyst'), ('Smith', 'Analyst'), ('Harris', 'Team Leader'), ('White', 'Analyst'), ('Kass', 'Analyst'), ('Lundsford', 'Programmer'), ('Campo', 'Programmer'), ('Sullivan', 'Programmer'), ('Bennett', 'Analyst'), ('Williams', 'Programmer'), ('Harvey', 'Programmer'), ('Myers', 'Team Leader'), ('Nugent', 'Programmer'), ('Colbert', 'Programmer'), ('Numbers', 'Programmer'), ('Lehmberg', 'Analyst'), ('Holgerson', 'Analyst'), ('Ali', 'Programmer'), ('Chan', 'Analyst'), ('Kovar', 'Team Leader'), ('Cochran', 'Team Leader'), ('Bradley', 'Programmer'), ('Gardner', 'Programmer')]\n",
    "fail = False if len(expected) == len(result) else True\n",
    "if not fail:\n",
    "  fail = [item not in expected for item in result]\n",
    "  print(\"Fail!\") if True in fail else print(\"Success!\")\n",
    "else:\n",
    "  print(\"Fail!\")"
   ]
  },
  {
   "cell_type": "markdown",
   "metadata": {
    "id": "ILE1zbqgBThG"
   },
   "source": [
    "## Exercise 6: Union\n",
    "\n",
    "From two sets of tuples (relationA and relationB), compute the union of both sets."
   ]
  },
  {
   "cell_type": "code",
   "execution_count": null,
   "metadata": {
    "id": "-cOJvetYgsfR"
   },
   "outputs": [],
   "source": [
    "# The input data will be two lists of tuples\n",
    "relationA = []\n",
    "relationB = []\n",
    "with open('relationA.txt', 'r') as f:\n",
    "  lines = f.readlines()\n",
    "  for line in lines:\n",
    "    item = line.strip().split(',')\n",
    "    relationA.append((item[1], item[2], item[3]))\n",
    "\n",
    "with open('relationB.txt', 'r') as f:\n",
    "  lines = f.readlines()\n",
    "  for line in lines:\n",
    "    item = line.strip().split(',')\n",
    "    relationB.append((item[1], item[2], item[3]))"
   ]
  },
  {
   "cell_type": "code",
   "execution_count": null,
   "metadata": {
    "id": "2aLKHXySBleF"
   },
   "outputs": [],
   "source": [
    "# Here you must insert your code. You must put your result in a variable named 'result'.\n",
    "\n"
   ]
  },
  {
   "cell_type": "code",
   "execution_count": null,
   "metadata": {
    "id": "xDfwCQuOCLPe"
   },
   "outputs": [],
   "source": [
    "# Here is where the result will be checked Don't modify this!\n",
    "\n",
    "expected = [('0', 'Jesus', 'Anderson'), ('1', 'Bryan', 'Smith'), ('2', 'Wendy', 'Loomis'), ('3', 'Jason', 'Benninger'), ('4', 'Sharon', 'Byerly'), ('5', 'Trevor', 'Rodriguez'), ('6', 'Gerard', 'Stewart'), ('7', 'Stanley', 'Hall'), ('8', 'Pamela', 'Taylor'), ('9', 'Nancy', 'Lewis'), ('10', 'Ronald', 'Bullard'), ('11', 'Audrey', 'Sheffield'), ('12', 'Hope', 'Davis'), ('13', 'Rhonda', 'Reddy'), ('14', 'Santiago', 'Young'), ('15', 'Jacqueline', 'Manuel'), ('16', 'Alan', 'Laverty'), ('17', 'Lisa', 'Webb'), ('18', 'Angie', 'Burnette'), ('19', 'Lorrie', 'Luna'), ('20', 'Micheal', 'Allen'), ('21', 'James', 'Mcgarry'), ('22', 'Troy', 'Conrad'), ('23', 'Norma', 'Mcdonald'), ('24', 'Jose', 'Hayes'), ('25', 'Gary', 'Wesley'), ('26', 'Evelia', 'Doyle'), ('27', 'Virginia', 'Porter'), ('28', 'Jenny', 'Voss'), ('29', 'Ronnie', 'Mitchell'), ('30', 'Lee', 'Cross'), ('31', 'Ramona', 'Berggren'), ('32', 'Ken', 'Ward'), ('33', 'Lakisha', 'Frye'), ('34', 'Julie', 'Duncan'), ('35', 'David', 'Pool'), ('36', 'Ann', 'Morse'), ('37', 'Gwen', 'Kellett'), ('38', 'Wilbur', 'Hughes'), ('39', 'Edward', 'Bergeron'), ('40', 'Floyd', 'Marquez'), ('41', 'Dorothy', 'Gale'), ('42', 'Emily', 'Taylor'), ('43', 'John', 'Averett'), ('44', 'Marcy', 'Aguilar'), ('45', 'Dean', 'Davis'), ('46', 'Brian', 'Cope'), ('47', 'Karen', 'Hallowell'), ('48', 'Susan', 'Ray'), ('49', 'Elizabeth', 'Khensovan'), ('50', 'George', 'Heuer'), ('51', 'Alberta', 'Perez'), ('52', 'Maurice', 'Young'), ('53', 'Charles', 'Williams'), ('54', 'Robert', 'Garrison'), ('55', 'Luis', 'Lynch'), ('56', 'Nancy', 'Hale'), ('57', 'David', 'Navejas'), ('58', 'Susan', 'Bryant'), ('59', 'Irene', 'Bell'), ('60', 'Travis', 'Pineau'), ('61', 'Yvonne', 'Johnson'), ('62', 'Evelyn', 'Smith'), ('63', 'Carmen', 'Featherstone'), ('64', 'Josephine', 'Bartlett'), ('65', 'Albert', 'Mendez'), ('66', 'David', 'Mcelwain'), ('67', 'Jamie', 'Harris'), ('68', 'Amy', 'Fernandez'), ('69', 'Michael', 'Rempel'), ('70', 'Amy', 'Parker'), ('71', 'Pamela', 'Richard'), ('72', 'Vincent', 'Gray'), ('73', 'Christine', 'Horner'), ('74', 'Nina', 'Campbell'), ('75', 'Diane', 'Hamburg'), ('76', 'Ronnie', 'Heinemann'), ('77', 'Marlene', 'Murdock'), ('78', 'Delores', 'Lord'), ('79', 'Corina', 'Garner'), ('80', 'Alvin', 'Bell'), ('81', 'Kimberly', 'Apodaca'), ('82', 'Kenneth', 'Lowe'), ('83', 'Dawn', 'Gaydosh'), ('84', 'Dave', 'Black'), ('85', 'Randal', 'Krokos'), ('86', 'Horace', 'Castillo'), ('87', 'Hazel', 'Washington'), ('88', 'Mary', 'Adams'), ('89', 'Joel', 'Flower'), ('90', 'Kevin', 'Medina'), ('91', 'Bernice', 'Montes'), ('92', 'Thomas', 'Nichols'), ('93', 'Marquita', 'Wenthold'), ('94', 'Felix', 'Smith'), ('95', 'Robyn', 'Sachs'), ('96', 'Hazel', 'Alexander'), ('97', 'Micheal', 'Lubinski'), ('98', 'William', 'Holland'), ('99', 'Apolonia', 'Elder'), ('0', 'Programmer', '33078'), ('1', 'Analyst', '22645'), ('2', 'Analyst', '35181'), ('3', 'Programmer', '29697'), ('4', 'Team Leader', '44010'), ('5', 'Team Leader', '39357'), ('6', 'Analyst', '48253'), ('7', 'Analyst', '49606'), ('8', 'Team Leader', '23842'), ('9', 'Analyst', '29981'), ('10', 'Team Leader', '27469'), ('11', 'Team Leader', '49461'), ('12', 'Team Leader', '45931'), ('13', 'Team Leader', '30674'), ('14', 'Analyst', '21430'), ('15', 'Analyst', '21126'), ('16', 'Programmer', '34916'), ('17', 'Analyst', '28981'), ('18', 'Team Leader', '21272'), ('19', 'Programmer', '49670'), ('20', 'Programmer', '45154'), ('21', 'Analyst', '29054'), ('22', 'Team Leader', '31798'), ('23', 'Team Leader', '26492'), ('24', 'Analyst', '48868'), ('25', 'Analyst', '22699'), ('26', 'Team Leader', '21041'), ('27', 'Programmer', '45251'), ('28', 'Programmer', '35814'), ('29', 'Analyst', '31136'), ('30', 'Programmer', '31798'), ('31', 'Analyst', '30521'), ('32', 'Analyst', '47403'), ('33', 'Programmer', '44642'), ('34', 'Analyst', '29675'), ('35', 'Analyst', '27145'), ('36', 'Analyst', '44616'), ('37', 'Team Leader', '46773'), ('38', 'Team Leader', '23022'), ('39', 'Team Leader', '40547'), ('40', 'Team Leader', '49321'), ('41', 'Team Leader', '39600'), ('42', 'Team Leader', '38385'), ('43', 'Programmer', '23033'), ('44', 'Programmer', '41338'), ('45', 'Team Leader', '41777'), ('46', 'Team Leader', '31837'), ('47', 'Team Leader', '46977'), ('48', 'Analyst', '40218'), ('49', 'Team Leader', '24137'), ('50', 'Programmer', '28663'), ('51', 'Analyst', '27401'), ('52', 'Team Leader', '44634'), ('53', 'Team Leader', '48544'), ('54', 'Programmer', '30358'), ('55', 'Programmer', '28465'), ('56', 'Analyst', '26994'), ('57', 'Programmer', '47451'), ('58', 'Analyst', '20011'), ('59', 'Analyst', '49819'), ('60', 'Team Leader', '26179'), ('61', 'Team Leader', '46239'), ('62', 'Programmer', '46338'), ('63', 'Analyst', '26656'), ('64', 'Team Leader', '23627'), ('65', 'Programmer', '47978'), ('66', 'Programmer', '44355'), ('67', 'Analyst', '40195'), ('68', 'Team Leader', '42450'), ('69', 'Analyst', '46580'), ('70', 'Programmer', '42596'), ('71', 'Analyst', '45553'), ('72', 'Analyst', '49004'), ('73', 'Programmer', '40950'), ('74', 'Team Leader', '43547'), ('75', 'Analyst', '39278'), ('76', 'Team Leader', '41651'), ('77', 'Programmer', '25761'), ('78', 'Analyst', '40379'), ('79', 'Analyst', '20522'), ('80', 'Analyst', '39092'), ('81', 'Analyst', '21265'), ('82', 'Analyst', '39772'), ('83', 'Programmer', '40170'), ('84', 'Team Leader', '20607'), ('85', 'Team Leader', '31321'), ('86', 'Team Leader', '24847'), ('87', 'Analyst', '20699'), ('88', 'Analyst', '37901'), ('89', 'Team Leader', '31881'), ('90', 'Analyst', '30980'), ('91', 'Team Leader', '47792'), ('92', 'Analyst', '44337'), ('93', 'Analyst', '24150'), ('94', 'Programmer', '27402'), ('95', 'Team Leader', '22950'), ('96', 'Analyst', '39956'), ('97', 'Analyst', '26122'), ('98', 'Programmer', '47170'), ('99', 'Analyst', '34381')]\n",
    "\n",
    "fail = False if len(expected) == len(result) else True\n",
    "fail = False if len(relationA) + len(relationB) == len(result) else True\n",
    "if not fail:\n",
    "  fail = [item not in expected for item in result]\n",
    "  print(\"Fail!\") if True in fail else print(\"Success!\")\n",
    "else:\n",
    "  print(\"Fail!\")\n"
   ]
  },
  {
   "cell_type": "markdown",
   "metadata": {
    "id": "0OhciEtvCgjd"
   },
   "source": [
    "## Exercise 7: Intersection\n",
    "\n",
    "From a two sets of tuples (intRelationA and intRelationB), compute the intersection of both sets."
   ]
  },
  {
   "cell_type": "code",
   "execution_count": null,
   "metadata": {
    "id": "tPShdW1J2Q4k"
   },
   "outputs": [],
   "source": [
    "# The input data will be two lists of tuples\n",
    "intRelationA = []\n",
    "intRelationB = []\n",
    "\n",
    "with open('intRelationA.txt', 'r') as f:\n",
    "  lines = f.readlines()\n",
    "  for line in lines:\n",
    "    item = line.strip().split(',')\n",
    "    intRelationA.append((item[1], item[2], item[3]))\n",
    "\n",
    "with open('intRelationB.txt', 'r') as f:\n",
    "  lines = f.readlines()\n",
    "  for line in lines:\n",
    "    item = line.strip().split(',')\n",
    "    intRelationB.append((item[1], item[2], item[3]))"
   ]
  },
  {
   "cell_type": "code",
   "execution_count": null,
   "metadata": {
    "id": "GEACBdkFCt52"
   },
   "outputs": [],
   "source": [
    "# Here you must insert your code. You must put your result in a variable named 'result'.\n"
   ]
  },
  {
   "cell_type": "code",
   "execution_count": null,
   "metadata": {
    "id": "efrBilhP4CVa"
   },
   "outputs": [],
   "source": [
    "# Here is where the result will be checked Don't modify this!\n",
    "\n",
    "expected = [('Frank', 'Collado', 'Analyst'), ('Allen', 'Edmons', 'Team Leader'), ('Tabatha', 'Sonnier', 'Team Leader'), ('Brandon', 'Jenkins', 'Programmer'), ('Shirley', 'Cheatam', 'Team Leader'), ('Royal', 'Chan', 'Programmer'), ('Santiago', 'Galloway', 'Team Leader'), ('Laura', 'Tyler', 'Analyst'), ('Juan', 'Covarrubias', 'Team Leader'), ('Carlton', 'Swan', 'Programmer'), ('Yuri', 'Kavanagh', 'Programmer'), ('Donald', 'Farmer', 'Analyst'), ('Jonathan', 'Harden', 'Analyst'), ('Rebecca', 'Taylor', 'Team Leader'), ('George', 'Wakefield', 'Programmer'), ('Marjorie', 'Carrillo', 'Analyst'), ('Jean', 'Hoffman', 'Analyst'), ('Melissa', 'Little', 'Programmer'), ('Fred', 'Vinck', 'Programmer'), ('Earl', 'Gohn', 'Analyst'), ('Shirley', 'Robinson', 'Team Leader'), ('Angelina', 'Wiseman', 'Analyst'), ('Larry', 'Saldana', 'Analyst'), ('Richard', 'Carr', 'Programmer'), ('David', 'Stott', 'Analyst'), ('Ernest', 'Kim', 'Analyst'), ('Howard', 'Reynolds', 'Programmer'), ('Deborah', 'Free', 'Programmer'), ('Jasmine', 'Aldana', 'Analyst'), ('Joseph', 'Rodgers', 'Team Leader'), ('Alice', 'George', 'Analyst'), ('David', 'Hopkins', 'Programmer'), ('Fern', 'Townsend', 'Team Leader')]\n",
    "\n",
    "fail = False if len(expected) == len(result) else True\n",
    "if not fail:\n",
    "  fail = [item not in expected for item in result]\n",
    "  print(\"Fail!\") if True in fail else print(\"Success!\")\n",
    "else:\n",
    "  print(\"Fail!\")\n"
   ]
  },
  {
   "cell_type": "markdown",
   "metadata": {
    "id": "ZXZr5HKOgbZp"
   },
   "source": [
    "## Exercise 8: Join\n",
    "\n",
    "This exercise performs the relational algebra's join operation in distributed mode.\n",
    "Specifically, from the given two input relations (relationA and relationB), you must compute the join of both relations through the ID\n",
    "attribute.\n",
    "You must get rid of duplicate tuples and columns."
   ]
  },
  {
   "cell_type": "code",
   "execution_count": null,
   "metadata": {
    "id": "A9ojk_jlh_VJ"
   },
   "outputs": [],
   "source": [
    "# Here you must insert your code. You must put your result in a variable named 'result'. The result must be in the form:\n",
    "# result = [('4', 'Sharon', 'Byerly', 'Team Leader', '44010'), ('10', 'Ronald', 'Bullard', 'Team Leader', '27469'), ...]\n",
    "\n"
   ]
  },
  {
   "cell_type": "code",
   "execution_count": null,
   "metadata": {
    "id": "ot460vetmS03"
   },
   "outputs": [],
   "source": [
    "# Here is where the result will be checked Don't modify this!\n",
    "\n",
    "expected = [('4', 'Sharon', 'Byerly', 'Team Leader', '44010'), ('10', 'Ronald', 'Bullard', 'Team Leader', '27469'), ('12', 'Hope', 'Davis', 'Team Leader', '45931'), ('16', 'Alan', 'Laverty', 'Programmer', '34916'), ('20', 'Micheal', 'Allen', 'Programmer', '45154'), ('24', 'Jose', 'Hayes', 'Analyst', '48868'), ('26', 'Evelia', 'Doyle', 'Team Leader', '21041'), ('40', 'Floyd', 'Marquez', 'Team Leader', '49321'), ('44', 'Marcy', 'Aguilar', 'Programmer', '41338'), ('50', 'George', 'Heuer', 'Programmer', '28663'), ('53', 'Charles', 'Williams', 'Team Leader', '48544'), ('54', 'Robert', 'Garrison', 'Programmer', '30358'), ('56', 'Nancy', 'Hale', 'Analyst', '26994'), ('57', 'David', 'Navejas', 'Programmer', '47451'), ('60', 'Travis', 'Pineau', 'Team Leader', '26179'), ('64', 'Josephine', 'Bartlett', 'Team Leader', '23627'), ('70', 'Amy', 'Parker', 'Programmer', '42596'), ('74', 'Nina', 'Campbell', 'Team Leader', '43547'), ('77', 'Marlene', 'Murdock', 'Programmer', '25761'), ('82', 'Kenneth', 'Lowe', 'Analyst', '39772'), ('83', 'Dawn', 'Gaydosh', 'Programmer', '40170'), ('86', 'Horace', 'Castillo', 'Team Leader', '24847'), ('88', 'Mary', 'Adams', 'Analyst', '37901'), ('3', 'Jason', 'Benninger', 'Programmer', '29697'), ('6', 'Gerard', 'Stewart', 'Analyst', '48253'), ('7', 'Stanley', 'Hall', 'Analyst', '49606'), ('15', 'Jacqueline', 'Manuel', 'Analyst', '21126'), ('18', 'Angie', 'Burnette', 'Team Leader', '21272'), ('23', 'Norma', 'Mcdonald', 'Team Leader', '26492'), ('25', 'Gary', 'Wesley', 'Analyst', '22699'), ('30', 'Lee', 'Cross', 'Programmer', '31798'), ('31', 'Ramona', 'Berggren', 'Analyst', '30521'), ('32', 'Ken', 'Ward', 'Analyst', '47403'), ('36', 'Ann', 'Morse', 'Analyst', '44616'), ('42', 'Emily', 'Taylor', 'Team Leader', '38385'), ('43', 'John', 'Averett', 'Programmer', '23033'), ('47', 'Karen', 'Hallowell', 'Team Leader', '46977'), ('49', 'Elizabeth', 'Khensovan', 'Team Leader', '24137'), ('51', 'Alberta', 'Perez', 'Analyst', '27401'), ('59', 'Irene', 'Bell', 'Analyst', '49819'), ('61', 'Yvonne', 'Johnson', 'Team Leader', '46239'), ('62', 'Evelyn', 'Smith', 'Programmer', '46338'), ('65', 'Albert', 'Mendez', 'Programmer', '47978'), ('67', 'Jamie', 'Harris', 'Analyst', '40195'), ('71', 'Pamela', 'Richard', 'Analyst', '45553'), ('80', 'Alvin', 'Bell', 'Analyst', '39092'), ('81', 'Kimberly', 'Apodaca', 'Analyst', '21265'), ('85', 'Randal', 'Krokos', 'Team Leader', '31321'), ('94', 'Felix', 'Smith', 'Programmer', '27402'), ('95', 'Robyn', 'Sachs', 'Team Leader', '22950'), ('99', 'Apolonia', 'Elder', 'Analyst', '34381'), ('0', 'Jesus', 'Anderson', 'Programmer', '33078'), ('1', 'Bryan', 'Smith', 'Analyst', '22645'), ('8', 'Pamela', 'Taylor', 'Team Leader', '23842'), ('9', 'Nancy', 'Lewis', 'Analyst', '29981'), ('14', 'Santiago', 'Young', 'Analyst', '21430'), ('17', 'Lisa', 'Webb', 'Analyst', '28981'), ('19', 'Lorrie', 'Luna', 'Programmer', '49670'), ('21', 'James', 'Mcgarry', 'Analyst', '29054'), ('22', 'Troy', 'Conrad', 'Team Leader', '31798'), ('29', 'Ronnie', 'Mitchell', 'Analyst', '31136'), ('33', 'Lakisha', 'Frye', 'Programmer', '44642'), ('34', 'Julie', 'Duncan', 'Analyst', '29675'), ('45', 'Dean', 'Davis', 'Team Leader', '41777'), ('48', 'Susan', 'Ray', 'Analyst', '40218'), ('63', 'Carmen', 'Featherstone', 'Analyst', '26656'), ('66', 'David', 'Mcelwain', 'Programmer', '44355'), ('68', 'Amy', 'Fernandez', 'Team Leader', '42450'), ('69', 'Michael', 'Rempel', 'Analyst', '46580'), ('73', 'Christine', 'Horner', 'Programmer', '40950'), ('84', 'Dave', 'Black', 'Team Leader', '20607'), ('91', 'Bernice', 'Montes', 'Team Leader', '47792'), ('93', 'Marquita', 'Wenthold', 'Analyst', '24150'), ('96', 'Hazel', 'Alexander', 'Analyst', '39956'), ('98', 'William', 'Holland', 'Programmer', '47170'), ('2', 'Wendy', 'Loomis', 'Analyst', '35181'), ('5', 'Trevor', 'Rodriguez', 'Team Leader', '39357'), ('11', 'Audrey', 'Sheffield', 'Team Leader', '49461'), ('13', 'Rhonda', 'Reddy', 'Team Leader', '30674'), ('27', 'Virginia', 'Porter', 'Programmer', '45251'), ('28', 'Jenny', 'Voss', 'Programmer', '35814'), ('35', 'David', 'Pool', 'Analyst', '27145'), ('37', 'Gwen', 'Kellett', 'Team Leader', '46773'), ('38', 'Wilbur', 'Hughes', 'Team Leader', '23022'), ('39', 'Edward', 'Bergeron', 'Team Leader', '40547'), ('41', 'Dorothy', 'Gale', 'Team Leader', '39600'), ('46', 'Brian', 'Cope', 'Team Leader', '31837'), ('52', 'Maurice', 'Young', 'Team Leader', '44634'), ('55', 'Luis', 'Lynch', 'Programmer', '28465'), ('58', 'Susan', 'Bryant', 'Analyst', '20011'), ('72', 'Vincent', 'Gray', 'Analyst', '49004'), ('75', 'Diane', 'Hamburg', 'Analyst', '39278'), ('76', 'Ronnie', 'Heinemann', 'Team Leader', '41651'), ('78', 'Delores', 'Lord', 'Analyst', '40379'), ('79', 'Corina', 'Garner', 'Analyst', '20522'), ('87', 'Hazel', 'Washington', 'Analyst', '20699'), ('89', 'Joel', 'Flower', 'Team Leader', '31881'), ('90', 'Kevin', 'Medina', 'Analyst', '30980'), ('92', 'Thomas', 'Nichols', 'Analyst', '44337'), ('97', 'Micheal', 'Lubinski', 'Analyst', '26122')]\n",
    "fail = False if len(expected) == len(result) else True\n",
    "if not fail:\n",
    "  fail = [item not in expected for item in result]\n",
    "  print(\"Fail!\") if True in fail else print(\"Success!\")\n",
    "else:\n",
    "  print(\"Fail!\")\n"
   ]
  },
  {
   "cell_type": "markdown",
   "metadata": {
    "id": "EWWJDokO4SRt"
   },
   "source": [
    "## Exercise 9: Matrix-Vector product\n",
    "\n",
    "This exercise performs the matrix-vector product in distributed mode."
   ]
  },
  {
   "cell_type": "code",
   "execution_count": null,
   "metadata": {
    "id": "mfhtAf_t4hdp"
   },
   "outputs": [],
   "source": [
    "# The input data will be a matrix and a vector\n",
    "\n",
    "matrix = sc.textFile(\"matrix.txt\")\n",
    "vector = []\n",
    "\n",
    "with open('vector.txt', 'r') as f:\n",
    "  lines = f.readlines()\n",
    "  for line in lines:\n",
    "    item = line.strip()\n",
    "    vector.append(int(item))"
   ]
  },
  {
   "cell_type": "code",
   "execution_count": null,
   "metadata": {
    "id": "9bFAKJvi7nIS"
   },
   "outputs": [],
   "source": [
    "# Here you must insert your code. You must put your result in a variable named 'result'. The result must be in the form:\n",
    "# [(1, 20658), (2, 20300), (3, 21288), ...]\n",
    "\n",
    "bcVector = sc.broadcast(vector)\n",
    "\n"
   ]
  },
  {
   "cell_type": "code",
   "execution_count": null,
   "metadata": {
    "id": "qwRsUyR4DQ51"
   },
   "outputs": [],
   "source": [
    "# Here is where the result will be checked Don't modify this!\n",
    "\n",
    "expected = [(1, 20658),\n",
    " (2, 20300),\n",
    " (3, 21288),\n",
    " (4, 20530),\n",
    " (5, 20801),\n",
    " (6, 20394),\n",
    " (7, 20007),\n",
    " (8, 20247),\n",
    " (9, 20316),\n",
    " (10, 19964),\n",
    " (11, 20495),\n",
    " (12, 20935),\n",
    " (13, 21306),\n",
    " (14, 20461),\n",
    " (15, 20257),\n",
    " (16, 20486),\n",
    " (17, 20362),\n",
    " (18, 20720),\n",
    " (19, 20416),\n",
    " (20, 20882),\n",
    " (21, 20590),\n",
    " (22, 19719),\n",
    " (23, 20267),\n",
    " (24, 20563),\n",
    " (25, 20924),\n",
    " (26, 20685),\n",
    " (27, 19788),\n",
    " (28, 20383),\n",
    " (29, 20059),\n",
    " (30, 20388),\n",
    " (31, 21105),\n",
    " (32, 21740),\n",
    " (33, 20962),\n",
    " (34, 20408),\n",
    " (35, 20338),\n",
    " (36, 20416),\n",
    " (37, 20072),\n",
    " (38, 19814),\n",
    " (39, 21483),\n",
    " (40, 21523),\n",
    " (41, 20655),\n",
    " (42, 20104),\n",
    " (43, 20687),\n",
    " (44, 20577),\n",
    " (45, 20784),\n",
    " (46, 20759),\n",
    " (47, 19452),\n",
    " (48, 20088),\n",
    " (49, 20717),\n",
    " (50, 20018)]\n",
    "\n",
    "fail = False if len(expected) == len(result) else True\n",
    "if not fail:\n",
    "  fail = [item not in expected for item in result]\n",
    "  print(\"Fail!\") if True in fail else print(\"Success!\")\n",
    "else:\n",
    "  print(\"Fail!\")"
   ]
  },
  {
   "cell_type": "markdown",
   "metadata": {
    "id": "5q6E1NnMMwyI"
   },
   "source": [
    "# Congratulations!\n",
    "\n",
    "You have finished the Spark RDD tutorial. I strongly recommend you to check the documentation at https://spark.apache.org/docs/latest/rdd-programming-guide.html"
   ]
  }
 ],
 "metadata": {
  "colab": {
   "provenance": [],
   "toc_visible": true
  },
  "kernelspec": {
   "display_name": "Python 3 (ipykernel)",
   "language": "python",
   "name": "python3"
  },
  "language_info": {
   "codemirror_mode": {
    "name": "ipython",
    "version": 3
   },
   "file_extension": ".py",
   "mimetype": "text/x-python",
   "name": "python",
   "nbconvert_exporter": "python",
   "pygments_lexer": "ipython3",
   "version": "3.10.12"
  }
 },
 "nbformat": 4,
 "nbformat_minor": 4
}
